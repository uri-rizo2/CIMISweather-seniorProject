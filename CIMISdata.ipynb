{
  "nbformat": 4,
  "nbformat_minor": 0,
  "metadata": {
    "colab": {
      "provenance": [],
      "authorship_tag": "ABX9TyOiiJu2/s9rXPpYCadxpZC+",
      "include_colab_link": true
    },
    "kernelspec": {
      "name": "python3",
      "display_name": "Python 3"
    },
    "language_info": {
      "name": "python"
    }
  },
  "cells": [
    {
      "cell_type": "markdown",
      "metadata": {
        "id": "view-in-github",
        "colab_type": "text"
      },
      "source": [
        "<a href=\"https://colab.research.google.com/github/uri-rizo2/CIMISweather-seniorProject/blob/Data-download%2Fcleanup/CIMISdata.ipynb\" target=\"_parent\"><img src=\"https://colab.research.google.com/assets/colab-badge.svg\" alt=\"Open In Colab\"/></a>"
      ]
    },
    {
      "cell_type": "markdown",
      "source": [
        "# Data manipulation to produce power output using RENES estimation model"
      ],
      "metadata": {
        "id": "B_FNYJkWxyeR"
      }
    },
    {
      "cell_type": "code",
      "execution_count": 3,
      "metadata": {
        "id": "dSPtfiSb7M8N",
        "colab": {
          "base_uri": "https://localhost:8080/",
          "height": 74
        },
        "outputId": "66d581c2-8cd3-4a6b-cbf3-5c93a7209a62"
      },
      "outputs": [
        {
          "output_type": "display_data",
          "data": {
            "text/plain": [
              "<IPython.core.display.HTML object>"
            ],
            "text/html": [
              "\n",
              "     <input type=\"file\" id=\"files-5e4bee9a-2d33-4c2b-ba5b-c49edd37acec\" name=\"files[]\" multiple disabled\n",
              "        style=\"border:none\" />\n",
              "     <output id=\"result-5e4bee9a-2d33-4c2b-ba5b-c49edd37acec\">\n",
              "      Upload widget is only available when the cell has been executed in the\n",
              "      current browser session. Please rerun this cell to enable.\n",
              "      </output>\n",
              "      <script>// Copyright 2017 Google LLC\n",
              "//\n",
              "// Licensed under the Apache License, Version 2.0 (the \"License\");\n",
              "// you may not use this file except in compliance with the License.\n",
              "// You may obtain a copy of the License at\n",
              "//\n",
              "//      http://www.apache.org/licenses/LICENSE-2.0\n",
              "//\n",
              "// Unless required by applicable law or agreed to in writing, software\n",
              "// distributed under the License is distributed on an \"AS IS\" BASIS,\n",
              "// WITHOUT WARRANTIES OR CONDITIONS OF ANY KIND, either express or implied.\n",
              "// See the License for the specific language governing permissions and\n",
              "// limitations under the License.\n",
              "\n",
              "/**\n",
              " * @fileoverview Helpers for google.colab Python module.\n",
              " */\n",
              "(function(scope) {\n",
              "function span(text, styleAttributes = {}) {\n",
              "  const element = document.createElement('span');\n",
              "  element.textContent = text;\n",
              "  for (const key of Object.keys(styleAttributes)) {\n",
              "    element.style[key] = styleAttributes[key];\n",
              "  }\n",
              "  return element;\n",
              "}\n",
              "\n",
              "// Max number of bytes which will be uploaded at a time.\n",
              "const MAX_PAYLOAD_SIZE = 100 * 1024;\n",
              "\n",
              "function _uploadFiles(inputId, outputId) {\n",
              "  const steps = uploadFilesStep(inputId, outputId);\n",
              "  const outputElement = document.getElementById(outputId);\n",
              "  // Cache steps on the outputElement to make it available for the next call\n",
              "  // to uploadFilesContinue from Python.\n",
              "  outputElement.steps = steps;\n",
              "\n",
              "  return _uploadFilesContinue(outputId);\n",
              "}\n",
              "\n",
              "// This is roughly an async generator (not supported in the browser yet),\n",
              "// where there are multiple asynchronous steps and the Python side is going\n",
              "// to poll for completion of each step.\n",
              "// This uses a Promise to block the python side on completion of each step,\n",
              "// then passes the result of the previous step as the input to the next step.\n",
              "function _uploadFilesContinue(outputId) {\n",
              "  const outputElement = document.getElementById(outputId);\n",
              "  const steps = outputElement.steps;\n",
              "\n",
              "  const next = steps.next(outputElement.lastPromiseValue);\n",
              "  return Promise.resolve(next.value.promise).then((value) => {\n",
              "    // Cache the last promise value to make it available to the next\n",
              "    // step of the generator.\n",
              "    outputElement.lastPromiseValue = value;\n",
              "    return next.value.response;\n",
              "  });\n",
              "}\n",
              "\n",
              "/**\n",
              " * Generator function which is called between each async step of the upload\n",
              " * process.\n",
              " * @param {string} inputId Element ID of the input file picker element.\n",
              " * @param {string} outputId Element ID of the output display.\n",
              " * @return {!Iterable<!Object>} Iterable of next steps.\n",
              " */\n",
              "function* uploadFilesStep(inputId, outputId) {\n",
              "  const inputElement = document.getElementById(inputId);\n",
              "  inputElement.disabled = false;\n",
              "\n",
              "  const outputElement = document.getElementById(outputId);\n",
              "  outputElement.innerHTML = '';\n",
              "\n",
              "  const pickedPromise = new Promise((resolve) => {\n",
              "    inputElement.addEventListener('change', (e) => {\n",
              "      resolve(e.target.files);\n",
              "    });\n",
              "  });\n",
              "\n",
              "  const cancel = document.createElement('button');\n",
              "  inputElement.parentElement.appendChild(cancel);\n",
              "  cancel.textContent = 'Cancel upload';\n",
              "  const cancelPromise = new Promise((resolve) => {\n",
              "    cancel.onclick = () => {\n",
              "      resolve(null);\n",
              "    };\n",
              "  });\n",
              "\n",
              "  // Wait for the user to pick the files.\n",
              "  const files = yield {\n",
              "    promise: Promise.race([pickedPromise, cancelPromise]),\n",
              "    response: {\n",
              "      action: 'starting',\n",
              "    }\n",
              "  };\n",
              "\n",
              "  cancel.remove();\n",
              "\n",
              "  // Disable the input element since further picks are not allowed.\n",
              "  inputElement.disabled = true;\n",
              "\n",
              "  if (!files) {\n",
              "    return {\n",
              "      response: {\n",
              "        action: 'complete',\n",
              "      }\n",
              "    };\n",
              "  }\n",
              "\n",
              "  for (const file of files) {\n",
              "    const li = document.createElement('li');\n",
              "    li.append(span(file.name, {fontWeight: 'bold'}));\n",
              "    li.append(span(\n",
              "        `(${file.type || 'n/a'}) - ${file.size} bytes, ` +\n",
              "        `last modified: ${\n",
              "            file.lastModifiedDate ? file.lastModifiedDate.toLocaleDateString() :\n",
              "                                    'n/a'} - `));\n",
              "    const percent = span('0% done');\n",
              "    li.appendChild(percent);\n",
              "\n",
              "    outputElement.appendChild(li);\n",
              "\n",
              "    const fileDataPromise = new Promise((resolve) => {\n",
              "      const reader = new FileReader();\n",
              "      reader.onload = (e) => {\n",
              "        resolve(e.target.result);\n",
              "      };\n",
              "      reader.readAsArrayBuffer(file);\n",
              "    });\n",
              "    // Wait for the data to be ready.\n",
              "    let fileData = yield {\n",
              "      promise: fileDataPromise,\n",
              "      response: {\n",
              "        action: 'continue',\n",
              "      }\n",
              "    };\n",
              "\n",
              "    // Use a chunked sending to avoid message size limits. See b/62115660.\n",
              "    let position = 0;\n",
              "    do {\n",
              "      const length = Math.min(fileData.byteLength - position, MAX_PAYLOAD_SIZE);\n",
              "      const chunk = new Uint8Array(fileData, position, length);\n",
              "      position += length;\n",
              "\n",
              "      const base64 = btoa(String.fromCharCode.apply(null, chunk));\n",
              "      yield {\n",
              "        response: {\n",
              "          action: 'append',\n",
              "          file: file.name,\n",
              "          data: base64,\n",
              "        },\n",
              "      };\n",
              "\n",
              "      let percentDone = fileData.byteLength === 0 ?\n",
              "          100 :\n",
              "          Math.round((position / fileData.byteLength) * 100);\n",
              "      percent.textContent = `${percentDone}% done`;\n",
              "\n",
              "    } while (position < fileData.byteLength);\n",
              "  }\n",
              "\n",
              "  // All done.\n",
              "  yield {\n",
              "    response: {\n",
              "      action: 'complete',\n",
              "    }\n",
              "  };\n",
              "}\n",
              "\n",
              "scope.google = scope.google || {};\n",
              "scope.google.colab = scope.google.colab || {};\n",
              "scope.google.colab._files = {\n",
              "  _uploadFiles,\n",
              "  _uploadFilesContinue,\n",
              "};\n",
              "})(self);\n",
              "</script> "
            ]
          },
          "metadata": {}
        },
        {
          "output_type": "stream",
          "name": "stdout",
          "text": [
            "Saving FresnoWeather1010-1016.csv to FresnoWeather1010-1016.csv\n"
          ]
        }
      ],
      "source": [
        "from google.colab import files\n",
        "\n",
        "\n",
        "uploaded = files.upload()\n"
      ]
    },
    {
      "cell_type": "code",
      "source": [
        "import pandas as pd\n",
        "import io\n",
        "\n",
        "df = pd.read_csv(io.BytesIO(uploaded['FresnoWeather1010-1016.csv']))\n",
        "print(df)\n"
      ],
      "metadata": {
        "id": "3h1SmtuaSk-J",
        "colab": {
          "base_uri": "https://localhost:8080/"
        },
        "outputId": "6b888f95-c939-4cd2-b3ea-04cc89288547"
      },
      "execution_count": 4,
      "outputs": [
        {
          "output_type": "stream",
          "name": "stdout",
          "text": [
            "      name    datetime  tempmax  tempmin  temp  feelslikemax  feelslikemin  \\\n",
            "0  fresno   2022-10-10     92.9     65.5  78.2          90.0          65.5   \n",
            "1  fresno   2022-10-11     93.0     63.7  77.6          88.8          63.7   \n",
            "2  fresno   2022-10-12     89.1     62.6  74.7          85.9          62.6   \n",
            "3  fresno   2022-10-13     88.0     62.6  74.3          85.0          62.6   \n",
            "4  fresno   2022-10-14     88.1     60.6  73.4          85.1          60.6   \n",
            "5  fresno   2022-10-15     87.1     60.0  72.5          84.8          60.0   \n",
            "6  fresno   2022-10-16     80.0     56.7  66.9          80.0          56.7   \n",
            "7  fresno   2022-10-17     80.9     55.1  67.8          80.5          55.1   \n",
            "\n",
            "   feelslike   dew  humidity  ...  solarenergy  uvindex  severerisk  \\\n",
            "0       77.2  52.8      44.6  ...         15.6        6          10   \n",
            "1       76.3  48.0      39.9  ...         16.4        7          10   \n",
            "2       74.0  49.4      43.4  ...         14.9        7          10   \n",
            "3       73.7  51.5      47.2  ...         13.4        7          10   \n",
            "4       72.7  51.5      49.7  ...         13.5        7          10   \n",
            "5       72.0  52.2      51.3  ...         13.1        7          10   \n",
            "6       66.9  53.7      64.6  ...         13.0        6          10   \n",
            "7       67.8  53.1      61.6  ...         12.0        6          10   \n",
            "\n",
            "               sunrise               sunset  moonphase        conditions  \\\n",
            "0  2022-10-10T07:02:14  2022-10-10T18:29:24       0.50  Partially cloudy   \n",
            "1  2022-10-11T07:03:07  2022-10-11T18:28:00       0.52             Clear   \n",
            "2  2022-10-12T07:04:00  2022-10-12T18:26:36       0.54             Clear   \n",
            "3  2022-10-13T07:04:54  2022-10-13T18:25:13       0.57             Clear   \n",
            "4  2022-10-14T07:05:48  2022-10-14T18:23:51       0.61             Clear   \n",
            "5  2022-10-15T07:06:42  2022-10-15T18:22:30       0.65             Clear   \n",
            "6  2022-10-16T07:07:37  2022-10-16T18:21:10       0.70             Clear   \n",
            "7  2022-10-17T07:08:32  2022-10-17T18:19:50       0.74             Clear   \n",
            "\n",
            "                            description               icon  \\\n",
            "0     Becoming cloudy in the afternoon.  partly-cloudy-day   \n",
            "1  Clear conditions throughout the day.          clear-day   \n",
            "2  Clear conditions throughout the day.          clear-day   \n",
            "3  Clear conditions throughout the day.          clear-day   \n",
            "4  Clear conditions throughout the day.          clear-day   \n",
            "5  Clear conditions throughout the day.          clear-day   \n",
            "6  Clear conditions throughout the day.          clear-day   \n",
            "7  Clear conditions throughout the day.          clear-day   \n",
            "\n",
            "                                            stations  \n",
            "0  CI080,KMAE,74504693242,74702023110,KNLC,KFAT,E...  \n",
            "1  CI080,KMAE,74504693242,74702023110,KNLC,KFAT,E...  \n",
            "2  KMAE,74504693242,74702023110,KNLC,KFAT,E7937,7...  \n",
            "3  KMAE,74504693242,74702023110,KNLC,KFAT,E7937,7...  \n",
            "4  KMAE,F2761,74504693242,74702023110,KNLC,KFAT,E...  \n",
            "5  KMAE,74504693242,74702023110,KNLC,KFAT,E7937,7...  \n",
            "6  KMAE,74504693242,74702023110,KNLC,KFAT,E7937,7...  \n",
            "7  KMAE,D1297,74504693242,74702023110,KNLC,KFAT,E...  \n",
            "\n",
            "[8 rows x 33 columns]\n"
          ]
        }
      ]
    },
    {
      "cell_type": "code",
      "source": [],
      "metadata": {
        "id": "ffTd37uPSlCj"
      },
      "execution_count": null,
      "outputs": []
    },
    {
      "cell_type": "code",
      "source": [],
      "metadata": {
        "id": "WuktCch7SlGJ"
      },
      "execution_count": null,
      "outputs": []
    },
    {
      "cell_type": "code",
      "source": [],
      "metadata": {
        "id": "UsGi-z6wSlKX"
      },
      "execution_count": null,
      "outputs": []
    }
  ]
}